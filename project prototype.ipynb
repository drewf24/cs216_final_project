{
 "cells": [
  {
   "cell_type": "code",
   "execution_count": 2,
   "id": "20c64d8d-dd78-4e47-8a38-db77c3c94d66",
   "metadata": {},
   "outputs": [],
   "source": [
    "import pandas as pd\n",
    "n_movies = pd.read_csv(\"n_movies.csv\")"
   ]
  },
  {
   "cell_type": "code",
   "execution_count": 3,
   "id": "4c821aa3-6d66-4874-9c48-76efb926dc83",
   "metadata": {},
   "outputs": [],
   "source": [
    "netflix_titles = pd.read_csv(\"netflix_titles.csv\")"
   ]
  },
  {
   "cell_type": "code",
   "execution_count": null,
   "id": "116f6e8c-2140-4451-a1d8-b5b48290c588",
   "metadata": {},
   "outputs": [],
   "source": []
  }
 ],
 "metadata": {
  "kernelspec": {
   "display_name": "Python 3 (ipykernel)",
   "language": "python",
   "name": "python3"
  },
  "language_info": {
   "codemirror_mode": {
    "name": "ipython",
    "version": 3
   },
   "file_extension": ".py",
   "mimetype": "text/x-python",
   "name": "python",
   "nbconvert_exporter": "python",
   "pygments_lexer": "ipython3",
   "version": "3.9.7"
  }
 },
 "nbformat": 4,
 "nbformat_minor": 5
}
